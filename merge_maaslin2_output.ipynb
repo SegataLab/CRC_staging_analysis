{
 "cells": [
  {
   "cell_type": "markdown",
   "id": "d1d8fac7",
   "metadata": {},
   "source": [
    "# Merge maaslin2 output"
   ]
  },
  {
   "cell_type": "code",
   "execution_count": 1,
   "id": "e7c612d8",
   "metadata": {},
   "outputs": [],
   "source": [
    "import os\n",
    "from copy import copy\n",
    "import pandas as pd"
   ]
  },
  {
   "cell_type": "code",
   "execution_count": 6,
   "id": "03c1df59",
   "metadata": {},
   "outputs": [],
   "source": [
    "out_maaslin2_folders = [\n",
    "    el for el in os.listdir(\"out_maaslin2/\")\n",
    "    if os.path.isdir(os.path.join(\"out_maaslin2/\", el))]"
   ]
  },
  {
   "cell_type": "code",
   "execution_count": 11,
   "id": "32c6adc6",
   "metadata": {},
   "outputs": [],
   "source": [
    "tmp_dfs = []\n",
    "\n",
    "for folder in out_maaslin2_folders:\n",
    "    tmp_df = pd.read_csv(os.path.join(\"out_maaslin2\", folder, \"all_results.tsv\"), sep=\"\\t\")\n",
    "    tmp_df[\"comp\"] = folder\n",
    "    \n",
    "    tmp_dfs.append(tmp_df)\n",
    "    \n",
    "tmp_dfs = pd.concat(tmp_dfs)"
   ]
  },
  {
   "cell_type": "code",
   "execution_count": 12,
   "id": "81bb2383",
   "metadata": {},
   "outputs": [],
   "source": [
    "tmp_dfs.to_csv(os.path.join(\"out_maaslin2\", \"out_maaslin2_merged.tsv\"), sep=\"\\t\", index=False)"
   ]
  }
 ],
 "metadata": {
  "kernelspec": {
   "display_name": "Python 3 (ipykernel)",
   "language": "python",
   "name": "python3"
  },
  "language_info": {
   "codemirror_mode": {
    "name": "ipython",
    "version": 3
   },
   "file_extension": ".py",
   "mimetype": "text/x-python",
   "name": "python",
   "nbconvert_exporter": "python",
   "pygments_lexer": "ipython3",
   "version": "3.11.0"
  }
 },
 "nbformat": 4,
 "nbformat_minor": 5
}
